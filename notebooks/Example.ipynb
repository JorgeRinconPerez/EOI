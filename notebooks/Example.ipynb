{
 "cells": [
  {
   "cell_type": "raw",
   "metadata": {},
   "source": []
  },
  {
   "cell_type": "raw",
   "metadata": {},
   "source": []
  }
 ],
 "metadata": {
  "kernelspec": {
   "display_name": "Python 3.9.4 64-bit ('scrapping': conda)",
   "name": "python394jvsc74a57bd0de60efe77b9b40f2a5374713cafaa09dcf754454b03780c78ff080bf0f0096ea"
  },
  "language_info": {
   "name": "python",
   "version": ""
  },
  "metadata": {
   "interpreter": {
    "hash": "de60efe77b9b40f2a5374713cafaa09dcf754454b03780c78ff080bf0f0096ea"
   }
  },
  "orig_nbformat": 2
 },
 "nbformat": 4,
 "nbformat_minor": 2
}